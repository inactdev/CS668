{
  "nbformat": 4,
  "nbformat_minor": 0,
  "metadata": {
    "colab": {
      "provenance": [],
      "authorship_tag": "ABX9TyN5O41wh3OcFvm4msFI6r0M",
      "include_colab_link": true
    },
    "kernelspec": {
      "name": "python3",
      "display_name": "Python 3"
    },
    "language_info": {
      "name": "python"
    }
  },
  "cells": [
    {
      "cell_type": "markdown",
      "metadata": {
        "id": "view-in-github",
        "colab_type": "text"
      },
      "source": [
        "<a href=\"https://colab.research.google.com/github/inactdev/CS668/blob/master/Deep_Value_Funnel.ipynb\" target=\"_parent\"><img src=\"https://colab.research.google.com/assets/colab-badge.svg\" alt=\"Open In Colab\"/></a>"
      ]
    },
    {
      "cell_type": "markdown",
      "source": [
        "Download and setup the libraries"
      ],
      "metadata": {
        "id": "tXxn7ECkaor7"
      }
    },
    {
      "cell_type": "code",
      "source": [
        "!pip install sec-edgar-downloader beautifulsoup4\n",
        "\n",
        "import transformers\n",
        "import pandas\n",
        "import numpy\n",
        "from bs4 import BeautifulSoup\n",
        "import torch\n",
        "\n",
        "# Mount Google Drive\n",
        "from google.colab import drive\n",
        "drive.mount('/content/drive')"
      ],
      "metadata": {
        "colab": {
          "base_uri": "https://localhost:8080/"
        },
        "id": "jsz-hnrbUtNc",
        "outputId": "1ac3edfc-d649-4f4f-a5ff-7fa91a6adb4e"
      },
      "execution_count": 24,
      "outputs": [
        {
          "output_type": "stream",
          "name": "stdout",
          "text": [
            "Requirement already satisfied: sec-edgar-downloader in /usr/local/lib/python3.11/dist-packages (5.0.3)\n",
            "Requirement already satisfied: beautifulsoup4 in /usr/local/lib/python3.11/dist-packages (4.13.4)\n",
            "Requirement already satisfied: requests in /usr/local/lib/python3.11/dist-packages (from sec-edgar-downloader) (2.32.3)\n",
            "Requirement already satisfied: pyrate-limiter>=3.6.0 in /usr/local/lib/python3.11/dist-packages (from sec-edgar-downloader) (3.7.0)\n",
            "Requirement already satisfied: soupsieve>1.2 in /usr/local/lib/python3.11/dist-packages (from beautifulsoup4) (2.7)\n",
            "Requirement already satisfied: typing-extensions>=4.0.0 in /usr/local/lib/python3.11/dist-packages (from beautifulsoup4) (4.13.2)\n",
            "Requirement already satisfied: charset-normalizer<4,>=2 in /usr/local/lib/python3.11/dist-packages (from requests->sec-edgar-downloader) (3.4.1)\n",
            "Requirement already satisfied: idna<4,>=2.5 in /usr/local/lib/python3.11/dist-packages (from requests->sec-edgar-downloader) (3.10)\n",
            "Requirement already satisfied: urllib3<3,>=1.21.1 in /usr/local/lib/python3.11/dist-packages (from requests->sec-edgar-downloader) (2.3.0)\n",
            "Requirement already satisfied: certifi>=2017.4.17 in /usr/local/lib/python3.11/dist-packages (from requests->sec-edgar-downloader) (2025.1.31)\n",
            "Drive already mounted at /content/drive; to attempt to forcibly remount, call drive.mount(\"/content/drive\", force_remount=True).\n"
          ]
        }
      ]
    },
    {
      "cell_type": "markdown",
      "source": [
        "Download Filings to Google Drive"
      ],
      "metadata": {
        "id": "nDAvKoessvh9"
      }
    },
    {
      "cell_type": "code",
      "execution_count": 33,
      "metadata": {
        "id": "RAcoJybbTcEC"
      },
      "outputs": [],
      "source": [
        "from sec_edgar_downloader import Downloader\n",
        "\n",
        "dl = Downloader(\"Ari Perez\", \"ap79624n@pace.edu\", \"/content/drive/My Drive/Pace/SEC Filings\")  # Required for SEC compliance\n",
        "\n",
        "equity_ids = [\"AAPL\", \"MSFT\", \"TSLA\"]\n",
        "\n",
        "for equity_id in equity_ids:\n",
        "  dl.get(\"10-K\", equity_id, limit=1)"
      ]
    },
    {
      "cell_type": "code",
      "source": [],
      "metadata": {
        "id": "iGGkHHeIUt8o"
      },
      "execution_count": 32,
      "outputs": []
    }
  ]
}